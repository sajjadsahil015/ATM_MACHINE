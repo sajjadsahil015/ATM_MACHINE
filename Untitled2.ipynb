{
  "nbformat": 4,
  "nbformat_minor": 0,
  "metadata": {
    "colab": {
      "provenance": [],
      "authorship_tag": "ABX9TyMiUA9j9EiOnH1rG4SGkC/7",
      "include_colab_link": true
    },
    "kernelspec": {
      "name": "python3",
      "display_name": "Python 3"
    },
    "language_info": {
      "name": "python"
    }
  },
  "cells": [
    {
      "cell_type": "markdown",
      "metadata": {
        "id": "view-in-github",
        "colab_type": "text"
      },
      "source": [
        "<a href=\"https://colab.research.google.com/github/sajjadsahil015/ATM_MACHINE/blob/main/Untitled2.ipynb\" target=\"_parent\"><img src=\"https://colab.research.google.com/assets/colab-badge.svg\" alt=\"Open In Colab\"/></a>"
      ]
    },
    {
      "cell_type": "code",
      "execution_count": 17,
      "metadata": {
        "colab": {
          "base_uri": "https://localhost:8080/"
        },
        "collapsed": true,
        "id": "nbp4zcm-Piai",
        "outputId": "541a8f28-ad86-4c87-c0d6-d81685e851f8"
      },
      "outputs": [
        {
          "output_type": "stream",
          "name": "stdout",
          "text": [
            "Dataset Details:\n",
            "Data Type: <class 'numpy.ndarray'>\n",
            "Shape of Data: (178, 13)\n",
            "Type of Target: <class 'numpy.ndarray'>\n",
            "Shape of Target: (178,)\n",
            "Average Cross Validation Accuracy for SVM: 95.09%\n",
            "Test Accuracy for SVM: 91.67%\n"
          ]
        }
      ],
      "source": [
        "from sklearn import datasets\n",
        "from sklearn.model_selection import train_test_split, KFold\n",
        "from sklearn.svm import SVC\n",
        "from sklearn.metrics import accuracy_score\n",
        "\n",
        "# Load the Wine dataset\n",
        "wine = datasets.load_wine()\n",
        "predictors = wine.data  # Features\n",
        "outcomes = wine.target  # Labels\n",
        "\n",
        "print(\"Dataset Details:\")\n",
        "print(f\"Data Type: {type(predictors)}\")\n",
        "print(f\"Shape of Data: {predictors.shape}\")\n",
        "print(f\"Type of Target: {type(outcomes)}\")\n",
        "print(f\"Shape of Target: {outcomes.shape}\")\n",
        "\n",
        "# Split data into train-test split (to hold out a test set)\n",
        "predictors_t, predictors_test, outcomes_t, outcomes_test = train_test_split(\n",
        "    predictors, outcomes, test_size=0.2, random_state=35\n",
        ")\n",
        "\n",
        "\n",
        "# SVM with K-Fold Cross Validation\n",
        "\n",
        "k_folds = KFold(n_splits=3, shuffle=True, random_state=35)\n",
        "\n",
        "# Initialize the SVM classifier\n",
        "svm_classifier = SVC(kernel='linear')  # Linear kernel SVM\n",
        "\n",
        "cross_val_scores = []\n",
        "\n",
        "# K-Fold Cross Validation\n",
        "for train_index, val_index in k_folds.split(predictors_t):\n",
        "    predictors_train, predictors_val = predictors_t[train_index], predictors_t[val_index]\n",
        "    outcomes_train, outcomes_val = outcomes_t[train_index], outcomes_t[val_index]\n",
        "\n",
        "    # Train the SVM model\n",
        "    svm_classifier.fit(predictors_train, outcomes_train)\n",
        "\n",
        "    # Validation predictions and accuracy\n",
        "    val_preds = svm_classifier.predict(predictors_val)\n",
        "    val_accuracy = accuracy_score(outcomes_val, val_preds)\n",
        "    cross_val_scores.append(val_accuracy)\n",
        "\n",
        "# Average Cross Validation Accuracy\n",
        "avg_cross_val_accuracy_svm = sum(cross_val_scores) / len(cross_val_scores)\n",
        "print(f\"Average Cross Validation Accuracy for SVM: {avg_cross_val_accuracy_svm * 100:.2f}%\")\n",
        "\n",
        "\n",
        "# Final Test Accuracy for SVM\n",
        "\n",
        "svm_classifier.fit(predictors_t, outcomes_t)\n",
        "test_predictions_svm = svm_classifier.predict(predictors_test)\n",
        "test_accuracy_svm = accuracy_score(outcomes_test, test_predictions_svm)\n",
        "\n",
        "print(f\"Test Accuracy for SVM: {test_accuracy_svm * 100:.2f}%\")\n",
        "\n"
      ]
    },
    {
      "cell_type": "markdown",
      "source": [
        "#OUTPUT\n",
        "Dataset Details:\n",
        "Data Type: <class 'numpy.ndarray'>\n",
        "Shape of Data: (178, 13)\n",
        "Type of Target: <class 'numpy.ndarray'>\n",
        "Shape of Target: (178,)\n",
        "Average Cross Validation Accuracy for SVM: 95.09%\n",
        "Test Accuracy for SVM: 91.67%"
      ],
      "metadata": {
        "id": "yCiM72f6cEab"
      }
    },
    {
      "cell_type": "code",
      "source": [
        "from sklearn import datasets\n",
        "from sklearn.model_selection import train_test_split, KFold\n",
        "from sklearn.tree import DecisionTreeClassifier\n",
        "from sklearn.metrics import accuracy_score\n",
        "\n",
        "# Load the Wine dataset\n",
        "wine = datasets.load_wine()\n",
        "predictors = wine.data  # Features\n",
        "outcomes = wine.target  # Labels\n",
        "\n",
        "print(\"Dataset Details:\")\n",
        "print(f\"Data Type: {type(predictors)}\")\n",
        "print(f\"Shape of Data: {predictors.shape}\")\n",
        "print(f\"Type of Target: {type(outcomes)}\")\n",
        "print(f\"Shape of Target: {outcomes.shape}\")\n",
        "\n",
        "# Split data into train-test split (to hold out a test set)\n",
        "predictors_t, predictors_test, outcomes_t, outcomes_test = train_test_split(\n",
        "    predictors, outcomes, test_size=0.2, random_state=35\n",
        ")\n",
        "\n",
        "\n",
        "# Decision Tree with K-Fold Cross Validation\n",
        "\n",
        "k_folds = KFold(n_splits=3, shuffle=True, random_state=35)\n",
        "\n",
        "# Initialize the Decision Tree classifier\n",
        "decision_tree_classifier = DecisionTreeClassifier(random_state=42)\n",
        "\n",
        "cross_val_scores_dt = []\n",
        "\n",
        "# K-Fold Cross Validation\n",
        "for train_index, val_index in k_folds.split(predictors_t):\n",
        "    predictors_train, predictors_val = predictors_t[train_index], predictors_t[val_index]\n",
        "    outcomes_train, outcomes_val = outcomes_t[train_index], outcomes_t[val_index]\n",
        "\n",
        "    # Train the Decision Tree model\n",
        "    decision_tree_classifier.fit(predictors_train, outcomes_train)\n",
        "\n",
        "    # Validation predictions and accuracy\n",
        "    val_preds = decision_tree_classifier.predict(predictors_val)\n",
        "    val_accuracy = accuracy_score(outcomes_val, val_preds)\n",
        "    cross_val_scores_dt.append(val_accuracy)\n",
        "\n",
        "# Average Cross Validation Accuracy\n",
        "avg_cross_val_accuracy_dt = sum(cross_val_scores_dt) / len(cross_val_scores_dt)\n",
        "print(f\"Average Cross Validation Accuracy for Decision Tree: {avg_cross_val_accuracy_dt * 100:.2f}%\")\n",
        "\n",
        "\n",
        "# Final Test Accuracy for Decision Tree\n",
        "\n",
        "decision_tree_classifier.fit(predictors_t, outcomes_t)\n",
        "test_predictions_dt = decision_tree_classifier.predict(predictors_test)\n",
        "test_accuracy_dt = accuracy_score(outcomes_test, test_predictions_dt)\n",
        "\n",
        "print(f\"Test Accuracy for Decision Tree: {test_accuracy_dt * 100:.2f}%\")\n"
      ],
      "metadata": {
        "colab": {
          "base_uri": "https://localhost:8080/"
        },
        "collapsed": true,
        "id": "UX2Nl4GNVkMx",
        "outputId": "46645e2d-dca2-48ec-ed5f-d501b89182c1"
      },
      "execution_count": 18,
      "outputs": [
        {
          "output_type": "stream",
          "name": "stdout",
          "text": [
            "Dataset Details:\n",
            "Data Type: <class 'numpy.ndarray'>\n",
            "Shape of Data: (178, 13)\n",
            "Type of Target: <class 'numpy.ndarray'>\n",
            "Shape of Target: (178,)\n",
            "Average Cross Validation Accuracy for Decision Tree: 94.34%\n",
            "Test Accuracy for Decision Tree: 88.89%\n"
          ]
        }
      ]
    },
    {
      "cell_type": "markdown",
      "source": [
        "#OUTPUT\n",
        "Dataset Details:\n",
        "Data Type: <class 'numpy.ndarray'>\n",
        "Shape of Data: (178, 13)\n",
        "Type of Target: <class 'numpy.ndarray'>\n",
        "Shape of Target: (178,)\n",
        "Average Cross Validation Accuracy for Decision Tree: 94.34%\n",
        "Test Accuracy for Decision Tree: 88.89%"
      ],
      "metadata": {
        "id": "_xOPNRF6b4pg"
      }
    },
    {
      "cell_type": "markdown",
      "source": [
        "\n"
      ],
      "metadata": {
        "id": "R0DLRPkOdJEh"
      }
    }
  ]
}